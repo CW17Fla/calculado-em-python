{
  "nbformat": 4,
  "nbformat_minor": 0,
  "metadata": {
    "colab": {
      "provenance": [],
      "authorship_tag": "ABX9TyNj2exbMSoW+v83JFqDTMl/",
      "include_colab_link": true
    },
    "kernelspec": {
      "name": "python3",
      "display_name": "Python 3"
    },
    "language_info": {
      "name": "python"
    }
  },
  "cells": [
    {
      "cell_type": "markdown",
      "metadata": {
        "id": "view-in-github",
        "colab_type": "text"
      },
      "source": [
        "<a href=\"https://colab.research.google.com/github/CW17Fla/calculado-em-python/blob/main/2024_projeto_github.ipynb\" target=\"_parent\"><img src=\"https://colab.research.google.com/assets/colab-badge.svg\" alt=\"Open In Colab\"/></a>"
      ]
    },
    {
      "cell_type": "code",
      "execution_count": 9,
      "metadata": {
        "colab": {
          "base_uri": "https://localhost:8080/"
        },
        "id": "dLt4RuvmJSAL",
        "outputId": "d7e00163-f39b-4d7b-e795-335b9be4530a"
      },
      "outputs": [
        {
          "output_type": "stream",
          "name": "stdout",
          "text": [
            "Selecione a operação desejada \n",
            "1.Adição\n",
            "2.Subtração\n",
            "3.Multiplicação\n",
            "4.Divisão\n",
            "Digite o primeiro número(1/2/3/4):1\n",
            "Digite o primeio número:10\n",
            "Digite o segundo número:20\n",
            "Resultado: 30.0\n"
          ]
        }
      ],
      "source": [
        "print(\"Selecione a operação desejada \")\n",
        "print(\"1.Adição\")\n",
        "print(\"2.Subtração\")\n",
        "print(\"3.Multiplicação\")\n",
        "print(\"4.Divisão\")\n",
        "\n",
        "opcao = input(\"Digite o primeiro número(1/2/3/4):\")\n",
        "\n",
        "numero1 = float(input(\"Digite o primeio número:\"))\n",
        "numero2 = float(input(\"Digite o segundo número:\"))\n",
        "\n",
        "if opcao == '1':\n",
        "  resultado = numero1 + numero2\n",
        "  print(\"Resultado:\",resultado)\n",
        "elif opcao == '2':\n",
        "  resultado = numero1 - numero2\n",
        "  print(\"Resultado:\",resultado)\n",
        "elif opcao == '3':\n",
        "  resultado = numero1 * numero2\n",
        "  print(\"Resultado:\",resultado)\n",
        "elif opcao == '4':\n",
        "    if numero2 !=0:\n",
        "      resultado = numero1/numero2\n",
        "      print(\"Resultado:\",resultado)\n",
        "    else:\n",
        "      print(\"Erro:Divisão por zero!\")\n",
        "else:\n",
        "  print(\"Opção inválida.Por favor,escolha uma opção válida\")"
      ]
    }
  ]
}